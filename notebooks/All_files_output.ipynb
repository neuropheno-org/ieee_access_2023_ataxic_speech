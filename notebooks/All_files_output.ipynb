{
 "cells": [
  {
   "cell_type": "code",
   "execution_count": null,
   "id": "649620b5",
   "metadata": {},
   "outputs": [],
   "source": [
    "import numpy as np\n",
    "import sys\n",
    "import os\n",
    "import pandas as pd\n",
    "sys.path.append('../../')\n",
    "\n",
    "from script.Model_run import Speech_analysis"
   ]
  },
  {
   "cell_type": "code",
   "execution_count": null,
   "id": "36406c87",
   "metadata": {},
   "outputs": [],
   "source": [
    "#data_home_dir = '/home/kvattis/Documents/data/'\n",
    "data_home_dir = '/home/kvattis/Dropbox (Partners HealthCare)/Data_Raw_Biogen_SCA/'"
   ]
  },
  {
   "cell_type": "code",
   "execution_count": null,
   "id": "9c0d39b3",
   "metadata": {},
   "outputs": [],
   "source": [
    "speech_analyzer = Speech_analysis(print_on = False)"
   ]
  },
  {
   "cell_type": "code",
   "execution_count": null,
   "id": "b2ac2673",
   "metadata": {},
   "outputs": [],
   "source": [
    "output_biogen = pd.DataFrame(columns = ['Date','subject_id','Neuropheno_ID','Bars','Bars_Speech','Sex','Diagnosis','DoB','Samples_no','Prob_AT_tf_grad', 'Bars_Speech_pred_t','Bars_Total_pred_t', 'Bars_Speech_pred_tf','Bars_Total_pred_tf'])"
   ]
  },
  {
   "cell_type": "markdown",
   "id": "78993a1f",
   "metadata": {},
   "source": [
    "# Biogen SCA study"
   ]
  },
  {
   "cell_type": "code",
   "execution_count": null,
   "id": "f9d2373e",
   "metadata": {},
   "outputs": [],
   "source": [
    "#survey_lex = pd.read_csv(data_home_dir + 'Biogen_SCA_Speech_Data/' + 'surveylex_questionIDs.csv',encoding='latin1')\n",
    "survey_lex = pd.read_excel(data_home_dir + 'Biogen_SCA_Speech_Data/' + 'surveylex_questionIDs.xlsx',engine='openpyxl')\n",
    "taskslist = survey_lex['question'].unique()\n",
    "\n",
    "for tt in  taskslist: \n",
    "    if tt not in [\"la_la_la\",\"go_go_go\",\"me_me_me\", \"lalala\", \"gogogo\", \"mememe\",\"papapa\"]:\n",
    "        continue\n",
    "    print(tt)\n",
    "    pd.set_option('display.max_columns', 4)\n",
    "    np.dtype(np.int16)\n",
    "    task = str(tt)\n",
    "    task_dir = str(tt)\n",
    "    \n",
    "    study_name = 'Biogen_SCA_Speech_Data'\n",
    "    study_dir = data_home_dir + 'Biogen_SCA_Speech_Data/'\n",
    "    #survey_lex = pd.read_csv(study_dir + 'surveylex_questionIDs.csv',encoding='latin1')\n",
    "    survey_lex = pd.read_excel(study_dir + 'surveylex_questionIDs.xlsx',engine='openpyxl')\n",
    "\n",
    "    survey_response_A = pd.read_excel(study_dir + 'surveyA-responses-summary_.xlsx',engine='openpyxl')\n",
    "    survey_response_B = pd.read_excel(study_dir + 'surveyB-responses-summary_.xlsx',engine='openpyxl')\n",
    "    survey_response_C = pd.read_excel(study_dir + 'surveyC-responses-summary_.xlsx',engine='openpyxl')\n",
    "    survey_response_D = pd.read_excel(study_dir + 'surveyD-responses-summary_.xlsx',engine='openpyxl')\n",
    "    \n",
    "    survey_response = pd.concat([survey_response_A, survey_response_B, survey_response_C, survey_response_D], ignore_index=True)\n",
    "\n",
    "    survey_submissions_A = pd.read_excel(study_dir + 'surveyA-submissions-summary_.xlsx',engine='openpyxl')\n",
    "    survey_submissions_B = pd.read_excel(study_dir + 'surveyB-submissions-summary_.xlsx',engine='openpyxl')\n",
    "    survey_submissions_C = pd.read_excel(study_dir + 'surveyC-submissions-summary_.xlsx',engine='openpyxl')\n",
    "    survey_submissions_D = pd.read_excel(study_dir + 'surveyD-submissions-summary_.xlsx',engine='openpyxl')\n",
    "    \n",
    "\n",
    "    survey_submissions = pd.concat([survey_submissions_A, survey_submissions_B, survey_submissions_C, survey_submissions_D], ignore_index=True)\n",
    "\n",
    "    #Patient_info = pd.read_csv(study_dir + 'Subjects_BiogenSCA_version2.csv',encoding='latin1')\n",
    "    #Patient_info = pd.read_csv(data_home_dir + 'Subjects_BiogenSCA_version2.csv',encoding='latin1')\n",
    "    #Patient_info_ = Patient_info.loc[:,['subject_id','neuropheno_id','diagnosis','bars_total_excl_miss_1','bars_total_excl_miss_2', 'bars_speech_1', 'bars_speech_2','sex', 'age']]\n",
    "    \n",
    "    _Patient_info = pd.read_csv(data_home_dir + 'Subjects_BiogenSCA_version2.csv',encoding='latin1')\n",
    "    _Patient_info_ = _Patient_info.loc[:,['subject_id','neuropheno_id','diagnosis','bars_total_excl_miss_1','bars_total_excl_miss_2', 'bars_speech_1', 'bars_speech_2','sex']]\n",
    "\n",
    "    Patient_info = pd.read_excel(data_home_dir + 'Subjects_BiogenSCA_with_PROM_2022_03_29_converted.xlsx',engine='openpyxl')\n",
    "    Patient_info_ = Patient_info.loc[:,['subject_id','neuropheno_id','diagnosis','bars_total_excl_miss_1','bars_total_excl_miss_2', 'bars_speech_1', 'bars_speech_2','sex','dob']]\n",
    "    \n",
    "    for i in _Patient_info_['subject_id']:\n",
    "        Patient_info_.loc[Patient_info_['subject_id'] == i,'neuropheno_id']  = _Patient_info_.loc[_Patient_info_['subject_id'] == i,'neuropheno_id']\n",
    "    \n",
    "    survey_lex_ = survey_lex.loc[:,['questionId','question']]\n",
    "    survey_response_ = survey_response.loc[:,['sampleId','questionId', 'sessionId','createdDate']]\n",
    "    survey_response_['createdDate'] = survey_response_['createdDate'].apply(lambda x: x[0:4] + '_' + x[5:7] + '_' + x[8:10] )\n",
    "    survey_submissions_ = survey_submissions.loc[:,['sessionId','Your participant ID:']]\n",
    "    survey_submissions_ = survey_submissions_.rename(columns={\"Your participant ID:\": \"subject_id\"})\n",
    "    df = pd.merge(pd.merge(pd.merge(survey_response_,survey_lex_,on='questionId'), survey_submissions_, on = 'sessionId'),Patient_info_, on = 'subject_id')\n",
    "    df.dropna(subset = [\"sampleId\"], inplace=True)\n",
    "\n",
    "    df_task = df.loc[df['question'] == task][['sampleId','subject_id','neuropheno_id','diagnosis','createdDate','bars_total_excl_miss_1','bars_total_excl_miss_2', 'bars_speech_1', 'bars_speech_2','sex']]#, 'age']]\n",
    "    df_task_numpy = df_task.to_numpy()\n",
    "\n",
    "    \n",
    "        \n",
    "    list_diagnostic = ['Control', 'Ataxia', 'MSA', 'Other']\n",
    "\n",
    "    \n",
    "    #Going over all the files for the task\n",
    "    list_names = []\n",
    "    for entry in df_task_numpy:\n",
    "        file_name = entry[0]\n",
    "        ID = str(entry[1])\n",
    "\n",
    "        if  not np.isnan(entry[2]):\n",
    "            Neur_phen_id = str(int(entry[2]))\n",
    "        else:\n",
    "            Neur_phen_id = ID\n",
    "        diagn = entry[3]\n",
    "        date = entry[4]\n",
    "        Date = date[:4] + date[5:7] + date[8:]\n",
    "        bars_total = (entry[5] + entry[6])/2.\n",
    "        bars_speech = (entry[7] + entry[8])/2./10.\n",
    "        sex = entry[9]\n",
    "        #age = entry[10]\n",
    "        \n",
    "        path_to_file = study_dir + ID + '_' + date + '_A/' + file_name + '.wav'\n",
    "        path_to_file_flag = 0\n",
    "        \n",
    "        if os.path.exists(path_to_file):\n",
    "            path_to_file_flag = 1 \n",
    "        \n",
    "        if not os.path.exists(path_to_file):\n",
    "            path_to_file = study_dir + ID + '_' + date + '_B/' + file_name + '.wav'\n",
    "        else:\n",
    "            path_to_file_flag = 1\n",
    "        \n",
    "        if not os.path.exists(path_to_file):\n",
    "            path_to_file = study_dir + ID + '_' + date + '_C/' + file_name + '.wav'\n",
    "        else:\n",
    "            path_to_file_flag = 1\n",
    "            \n",
    "        if not os.path.exists(path_to_file):\n",
    "            path_to_file = study_dir + ID + '_' + date + '_D/' + file_name + '.wav'\n",
    "        else:\n",
    "            path_to_file_flag = 1    \n",
    "            \n",
    "        if path_to_file_flag == 0: continue;\n",
    "            \n",
    "        #Assign label\n",
    "        if diagn == 0:\n",
    "            #diagn = 'Control'\n",
    "            label = 0\n",
    "        elif diagn == 1:\n",
    "            #diagn = 'Ataxia'\n",
    "            label = 1\n",
    "        elif diagn == 2:\n",
    "            #diagn = 'Ataxia'\n",
    "            label = 1\n",
    "        elif diagn == 3:\n",
    "            #diagn = 'Ataxia'\n",
    "            label = 1\n",
    "        elif diagn == 7:\n",
    "            #diagn = 'MSA'\n",
    "            label = 7\n",
    "        else:\n",
    "            #diagn = 'Other'\n",
    "            label = 5\n",
    "        \n",
    "        if label not in [0,1]:\n",
    "            continue\n",
    "        \n",
    "        if label == 0:\n",
    "            bars_total = 0\n",
    "            bars_speech = 0 \n",
    "        \n",
    "        if Neur_phen_id == ID:\n",
    "            no_samples = speech_analyzer.load(path_to_file)\n",
    "            Neur_phen_id = None\n",
    "        else:\n",
    "            no_samples = speech_analyzer.load(path_to_file,Neur_phen_id)\n",
    "        \n",
    "        if no_samples == 0: \n",
    "            continue\n",
    "            \n",
    "        output_biogen = output_biogen.append({'Date' : Date, 'subject_id' : ID, 'Neuropheno_ID' : Neur_phen_id, 'Bars': bars_total, 'Bars_Speech':bars_speech, 'Sex': sex, 'Diagnosis': diagn,'Samples_no' : speech_analyzer.sample_size_s, 'Prob_AT_tf_grad': speech_analyzer.classify(),\n",
    "                               'Bars_Speech_pred_t': speech_analyzer.BARS_speech(), 'Bars_Total_pred_t': speech_analyzer.BARS_total(), 'Bars_Speech_pred_tf': speech_analyzer.BARS_speech_both_grad(), 'Bars_Total_pred_tf': speech_analyzer.BARS_total_both_grad()}, \n",
    "                ignore_index = True)\n",
    "        "
   ]
  },
  {
   "cell_type": "code",
   "execution_count": null,
   "id": "bd194690",
   "metadata": {},
   "outputs": [],
   "source": [
    "output_biogen = output_biogen.astype(float).groupby(['Date','subject_id'], as_index = False).median().sort_values(by=['subject_id'])\n",
    "\n",
    "for i in output_biogen['subject_id'].unique():\n",
    "    output_biogen.loc[output_biogen['subject_id'] == i,'DoB'] = pd.to_datetime(Patient_info_.loc[Patient_info_['subject_id'] == i,'dob'].item())\n",
    "\n",
    "output_biogen.to_csv('/home/kvattis/Desktop/Biogen_SCA_outputs_2022_05_04.csv', index = False)"
   ]
  },
  {
   "cell_type": "markdown",
   "id": "71220ee5",
   "metadata": {},
   "source": [
    "# Phenotyping study"
   ]
  },
  {
   "cell_type": "code",
   "execution_count": null,
   "id": "d59e81e7",
   "metadata": {},
   "outputs": [],
   "source": []
  },
  {
   "cell_type": "code",
   "execution_count": null,
   "id": "2c021c9a",
   "metadata": {},
   "outputs": [],
   "source": [
    "output_phenotype =  pd.DataFrame(columns = ['Date','subject_id','Neuropheno_ID','Bars','Bars_Speech','Sex','Diagnosis','Age','Samples_no','Prob_AT_tf_grad', 'Bars_Speech_pred_t','Bars_Total_pred_t', 'Bars_Speech_pred_tf','Bars_Total_pred_tf'])\n",
    "data_home_dir = '/home/kvattis/Documents/data/'\n",
    "list_diagnostic = ['Control', 'Ataxia', 'PD', 'MG', 'FND', 'Other', 'Unknown']\n",
    "#Read the Patient info csv and extract the diagnosis\n",
    "Patient_info = pd.read_csv(data_home_dir + 'Audio_All/2021_01_27_All_Tasks-data.csv',encoding='latin1')\n",
    "Patient_info['gen_diagnosis'] = Patient_info['gen_diagnosis'].replace(['AT'], 'Ataxia')\n",
    "Patient_info['P_ID'] = Patient_info['ID'].apply(lambda x: x[0:5] )\n",
    "Patient_info.set_index('ID', inplace = True)\n",
    "Patient_info_ph = Patient_info\n",
    "Gen_diagnosis = Patient_info['gen_diagnosis']\n",
    "\n",
    "for task in ['Go1', 'Go2', 'La1', 'La2','Me1', 'Me2']:\n",
    "    print(task)\n",
    "    task_dir = data_home_dir + 'Audio_All/'+ task + '/' \n",
    "    audio_dir = task_dir + 'audio_chopped/'\n",
    "\n",
    "    #Going over all the files for the task\n",
    "    list_names = []\n",
    "    \n",
    "    for filename in os.listdir(audio_dir):\n",
    "        if filename[-3:] != \"wav\":\n",
    "            continue\n",
    "        I_D = filename[0:16]\n",
    "        Date = int(I_D[6:10] + I_D[11:13] + I_D[14:16])\n",
    "        P_ID = filename[0:5]\n",
    "        diagn = Gen_diagnosis.loc[I_D]\n",
    "        Neur_phen_id = None\n",
    "        path_to_file = audio_dir + filename\n",
    "        \n",
    "        #Assign label\n",
    "        if diagn == 'Control':\n",
    "            label = 0\n",
    "        elif diagn == 'Ataxia':\n",
    "            label = 1\n",
    "        elif diagn == 'PD':\n",
    "            label = 2\n",
    "        elif diagn == 'MG':\n",
    "            label = 3\n",
    "        elif diagn == 'FND':\n",
    "            label = 4\n",
    "        elif diagn == 'Other':\n",
    "            label = 5\n",
    "        elif diagn == 'Unknown':\n",
    "            label = 6\n",
    "        \n",
    "        if label not in [0,1]:\n",
    "            continue\n",
    "        \n",
    "        bars_info = Patient_info[['bars_total', 'bars_arm_L', 'bars_arm_R', 'bars_leg_L', 'bars_leg_R', 'bars_oculomotor', 'bars_gait']].loc[str(I_D)]\n",
    "        if bars_info.shape == (7,):\n",
    "            bars_total = bars_info[0]\n",
    "            bars_arm = bars_info[1] +  bars_info[2]\n",
    "            bars_leg = bars_info[3] +  bars_info[4] \n",
    "            bars_occ = bars_info[5]\n",
    "            bars_gait = bars_info[6]\n",
    "            bars_speech = bars_total - (bars_arm + bars_leg + bars_occ + bars_gait)\n",
    "        else:\n",
    "            bars = bars_info[bars_info['ID'] == old_id]['bars_total'][0]\n",
    "            bars_arm = bars_info[bars_info['ID'] == old_id]['bars_arm_L'][0] + bars_info[bars_info['ID'] == old_id]['bars_arm_R'][0] \n",
    "            bars_leg = bars_info[bars_info['ID'] == old_id]['bars_leg_L'][0] + bars_info[bars_info['ID'] == old_id]['bars_leg_R'][0] \n",
    "            bars_occ = bars_info[bars_info['ID'] == old_id]['bars_oculomotor'][0]\n",
    "            bars_gait = bars_info[bars_info['ID'] == old_id]['bars_gait'][0]\n",
    "            bars_speech = bars - (bars_arm + bars_leg + bars_occ + bars_gait)\n",
    "            \n",
    "        sex = Patient_info['sex'].loc[str(I_D)]\n",
    "        sex =  1 if sex == 'F' else 2\n",
    "        age = Patient_info['age'].loc[str(I_D)]\n",
    "        \n",
    "        no_samples = speech_analyzer.load(path_to_file,P_ID)\n",
    "        if no_samples == 0: \n",
    "            continue\n",
    "            \n",
    "        output_phenotype = output_phenotype.append({'Date' : Date, 'subject_id' : P_ID, 'Neuropheno_ID' : Neur_phen_id,'Age': age, 'Bars': bars_total, 'Bars_Speech':bars_speech, 'Sex': sex, 'Diagnosis': label,'Samples_no' : speech_analyzer.sample_size_s, 'Prob_AT_tf_grad': speech_analyzer.classify(),\n",
    "                               'Bars_Speech_pred_t': speech_analyzer.BARS_speech(), 'Bars_Total_pred_t': speech_analyzer.BARS_total(), 'Bars_Speech_pred_tf': speech_analyzer.BARS_speech_both_grad(), 'Bars_Total_pred_tf': speech_analyzer.BARS_total_both_grad()}, \n",
    "                ignore_index = True)"
   ]
  },
  {
   "cell_type": "code",
   "execution_count": null,
   "id": "60c259fa",
   "metadata": {},
   "outputs": [],
   "source": [
    "output_phenotype = output_phenotype.astype(float).groupby(['Date','subject_id'], as_index = False).median().sort_values(by=['subject_id'])\n",
    "\n",
    "output_phenotype.to_csv('/home/kvattis/Desktop/Phenotype_outputs_2022_05_04.csv', index = False)"
   ]
  },
  {
   "cell_type": "code",
   "execution_count": null,
   "id": "2572a539",
   "metadata": {},
   "outputs": [],
   "source": []
  },
  {
   "cell_type": "markdown",
   "id": "784bdf12",
   "metadata": {},
   "source": [
    "# Remote AT study"
   ]
  },
  {
   "cell_type": "code",
   "execution_count": null,
   "id": "46e085d1",
   "metadata": {},
   "outputs": [],
   "source": [
    "data_home_dir = '/home/kvattis/Documents/data/'\n",
    "survey_lex = pd.read_excel(data_home_dir + 'Remote_AT_Speech_Data/' + 'surveylex_questionIDs.xlsx',engine='openpyxl')\n",
    "taskslist = survey_lex['question'].unique()\n",
    "output_remote =  pd.DataFrame(columns = ['Date','subject_id','Neuropheno_ID','Bars','Bars_Speech','Sex','Diagnosis','Age','Samples_no','Prob_AT_tf_grad', 'Bars_Speech_pred_t','Bars_Total_pred_t', 'Bars_Speech_pred_tf','Bars_Total_pred_tf'])\n",
    "\n",
    "for tt in  taskslist: \n",
    "    if tt not in [\"la_la_la\",\"go_go_go\",\"me_me_me\", \"lalala\", \"gogogo\", \"mememe\",\"papapa\"]: #['moy_forwards']:\n",
    "        continue\n",
    "    print(tt)\n",
    "    pd.set_option('display.max_columns', 4)\n",
    "    np.dtype(np.int16)\n",
    "    \n",
    "    task = str(tt)\n",
    "    task_dir = str(tt)\n",
    "\n",
    "\n",
    "    study_name = 'Remote_AT_Speech_Data'\n",
    "    study_dir = data_home_dir + 'Remote_AT_Speech_Data/'\n",
    "    survey_lex = pd.read_excel(study_dir + 'surveylex_questionIDs.xlsx',engine='openpyxl')\n",
    "\n",
    "    survey_response_A_7 = pd.read_excel(study_dir + 'surveyA_7_responses_summary.xlsx',engine='openpyxl')\n",
    "    survey_response_A_8_13 = pd.read_excel(study_dir + 'surveyA_8_13_responses_summary.xlsx',engine='openpyxl')\n",
    "    survey_response_A_14 = pd.read_excel(study_dir + 'surveyA_14_responses_summary.xlsx',engine='openpyxl')\n",
    "    survey_response_B_7 = pd.read_excel(study_dir + 'surveyB_7_responses_summary.xlsx',engine='openpyxl')\n",
    "    survey_response_B_8_13 = pd.read_excel(study_dir + 'surveyB_8_13_responses_summary.xlsx',engine='openpyxl')\n",
    "    survey_response_B_14 = pd.read_excel(study_dir + 'surveyB_14_responses_summary.xlsx',engine='openpyxl')\n",
    "    survey_response_C_7 = pd.read_excel(study_dir + 'surveyC_7_responses_summary.xlsx',engine='openpyxl')\n",
    "    survey_response_C_8_13 = pd.read_excel(study_dir + 'surveyC_8_13_responses_summary.xlsx',engine='openpyxl')\n",
    "    #survey_response_C_14 = pd.read_excel(study_dir + 'surveyC_14_responses_summary.xlsx',engine='openpyxl')\n",
    "    survey_response = pd.concat([survey_response_A_7, survey_response_A_8_13, survey_response_A_14, survey_response_B_7, survey_response_B_8_13, survey_response_B_14, survey_response_C_7, survey_response_C_8_13], ignore_index=True)\n",
    "\n",
    "    survey_submissions_A_7 = pd.read_excel(study_dir + 'surveyA_7_submissions_summary.xlsx',engine='openpyxl')\n",
    "    survey_submissions_A_8_13 = pd.read_excel(study_dir + 'surveyA_8_13_submissions_summary.xlsx',engine='openpyxl')\n",
    "    survey_submissions_A_14 = pd.read_excel(study_dir + 'surveyA_14_submissions_summary.xlsx',engine='openpyxl')\n",
    "    survey_submissions_B_7 = pd.read_excel(study_dir + 'surveyB_7_submissions_summary.xlsx',engine='openpyxl')\n",
    "    survey_submissions_B_8_13 = pd.read_excel(study_dir + 'surveyB_8_13_submissions_summary.xlsx',engine='openpyxl')\n",
    "    survey_submissions_B_14 = pd.read_excel(study_dir + 'surveyB_14_submissions_summary.xlsx',engine='openpyxl')\n",
    "    survey_submissions_C_7 = pd.read_excel(study_dir + 'surveyC_7_submissions_summary.xlsx',engine='openpyxl')\n",
    "    survey_submissions_C_8_13 = pd.read_excel(study_dir + 'surveyC_8_13_submissions_summary.xlsx',engine='openpyxl')\n",
    "    #survey_submissions_C_14 = pd.read_excel(study_dir + 'surveyC_14_submissions_summary.xlsx',engine='openpyxl')\n",
    "    survey_submissions = pd.concat([survey_submissions_A_7, survey_submissions_A_8_13, survey_submissions_A_14, survey_submissions_B_7, survey_submissions_B_8_13, survey_submissions_B_14, survey_submissions_C_7, survey_submissions_C_8_13], ignore_index=True)\n",
    "\n",
    "    Patient_info = pd.read_csv(study_dir + 'Subjects_Remote_Behavior.csv',encoding='latin1')\n",
    "    Patient_info_ = Patient_info.loc[:,['subject_id','neuropheno_id','Diagnosis_1','Neuropheno_session_for_BARS','DOB']]\n",
    "    Patient_info_['Diagnosis_1'] = Patient_info_['Diagnosis_1'].apply(lambda x: 0 if x == 'Control' else 1)\n",
    "    Patient_info_ = Patient_info_.rename(columns={\"Diagnosis_1\": \"diagnosis\"})\n",
    "\n",
    "    survey_lex_ = survey_lex.loc[:,['questionId','question']]\n",
    "    survey_response_ = survey_response.loc[:,['sampleId','questionId', 'sessionId','createdDate']]\n",
    "    survey_response_['createdDate'] = survey_response_['createdDate'].apply(lambda x: x[0:4] + '_' + x[5:7] + '_' + x[8:10] )\n",
    "    survey_submissions_ = survey_submissions.loc[:,['sessionId','Your participant ID:']]\n",
    "    survey_submissions_ = survey_submissions_.rename(columns={\"Your participant ID:\": \"subject_id\"})\n",
    "    df = pd.merge(pd.merge(pd.merge(survey_response_,survey_lex_,on='questionId'), survey_submissions_, on = 'sessionId'),Patient_info_, on = 'subject_id')\n",
    "    df.dropna(subset = [\"sampleId\"], inplace=True)\n",
    "    df_task = df.loc[df['question'] == task][['sampleId','subject_id','neuropheno_id','diagnosis','createdDate','Neuropheno_session_for_BARS']]\n",
    "    df_task_numpy = df_task.to_numpy()\n",
    "\n",
    "    list_diagnostic = ['Control', 'Ataxia', 'MSA', 'Other']\n",
    "\n",
    "    #Going over all the files for the task\n",
    "    list_names = []\n",
    "    for entry in df_task_numpy:\n",
    "        file_name = entry[0]\n",
    "        ID = str(entry[1])\n",
    "\n",
    "        if  not np.isnan(entry[2]):\n",
    "            Neur_phen_id = str(int(entry[2]))\n",
    "            Neuropheno_session_for_BARS = str(entry[5])\n",
    "        else:\n",
    "            Neur_phen_id = ID\n",
    "            Neuropheno_session_for_BARS = np.nan\n",
    "        diagn = entry[3]\n",
    "        date = entry[4]\n",
    "        Date = date[:4] + date[5:7] + date[8:]\n",
    "        \n",
    "        if  str(Neuropheno_session_for_BARS) == 'nan':\n",
    "            bars_total = np.nan\n",
    "            bars_speech = np.nan\n",
    "        else:\n",
    "            bars_info = Patient_info_ph.loc[str(Neuropheno_session_for_BARS)]\n",
    "            bars_total = bars_info['bars_total']\n",
    "            bars_speech = bars_info['bars_total'] - (bars_info['bars_arm_L'] + bars_info['bars_arm_R'] + bars_info['bars_leg_L'] + bars_info['bars_leg_R'] + bars_info['bars_oculomotor'] + bars_info['bars_gait'])\n",
    "        \n",
    "        path_to_file = study_dir + ID + '_' + date + '/' + file_name + '.wav'\n",
    "\n",
    "        if ID + '_' + date == '20023_2021_03_09':\n",
    "            continue\n",
    "\n",
    "        if ID + '_' + date == '20088_2021_03_14':\n",
    "            continue\n",
    "\n",
    "        #Assign label\n",
    "        if diagn == 0:\n",
    "            #diagn = 'Control'\n",
    "            label = 0\n",
    "        else:\n",
    "            #diagn = 'Ataxia'\n",
    "            label = 1\n",
    "        \n",
    "        \n",
    "        if Neur_phen_id == ID:\n",
    "            no_samples = speech_analyzer.load(path_to_file,ID)\n",
    "            Neur_phen_id = None\n",
    "        else:\n",
    "            no_samples = speech_analyzer.load(path_to_file,Neur_phen_id)\n",
    "        \n",
    "        if no_samples == 0: \n",
    "            continue\n",
    "            \n",
    "        output_remote = output_remote.append({'Date' : Date, 'subject_id' : ID, 'Neuropheno_ID' : Neur_phen_id, 'Bars': bars_total, 'Bars_Speech':bars_speech, 'Sex': sex, 'Diagnosis': diagn,'Samples_no' : speech_analyzer.sample_size_s, 'Prob_AT_tf_grad': speech_analyzer.classify(),\n",
    "                               'Bars_Speech_pred_t': speech_analyzer.BARS_speech(), 'Bars_Total_pred_t': speech_analyzer.BARS_total(), 'Bars_Speech_pred_tf': speech_analyzer.BARS_speech_both_grad(), 'Bars_Total_pred_tf': speech_analyzer.BARS_total_both_grad()}, \n",
    "                ignore_index = True)"
   ]
  },
  {
   "cell_type": "code",
   "execution_count": null,
   "id": "8212185e",
   "metadata": {},
   "outputs": [],
   "source": [
    "Patient_info = pd.read_csv(study_dir + 'Subjects_Remote_Behavior.csv',encoding='latin1')\n",
    "Patient_info_ = Patient_info.loc[:,['subject_id','neuropheno_id','Diagnosis_1','Neuropheno_session_for_BARS','DOB']]\n",
    "Patient_info_['Diagnosis_1'] = Patient_info_['Diagnosis_1'].apply(lambda x: 0 if x == 'Control' else 1)\n",
    "Patient_info_ = Patient_info_.rename(columns={\"Diagnosis_1\": \"diagnosis\"})"
   ]
  },
  {
   "cell_type": "code",
   "execution_count": null,
   "id": "e5aec90c",
   "metadata": {},
   "outputs": [],
   "source": [
    "output_remote = output_remote.astype(float).groupby(['Date','subject_id'], as_index = False).median().sort_values(by=['subject_id'])\n",
    "\n",
    "for i in output_remote['subject_id'].unique():\n",
    "    output_remote.loc[output_remote['subject_id'] == i,'DoB'] = pd.to_datetime(Patient_info_.loc[Patient_info_['subject_id'] == i,'DOB'].item())\n",
    "\n",
    "output_remote.to_csv('/home/kvattis/Desktop/AT_outputs_2022_05_04.csv', index = False)"
   ]
  },
  {
   "cell_type": "code",
   "execution_count": null,
   "id": "0e612192",
   "metadata": {},
   "outputs": [],
   "source": []
  },
  {
   "cell_type": "code",
   "execution_count": null,
   "id": "ce974204",
   "metadata": {},
   "outputs": [],
   "source": [
    "output_remote['Age']"
   ]
  },
  {
   "cell_type": "code",
   "execution_count": null,
   "id": "e8810d24",
   "metadata": {},
   "outputs": [],
   "source": [
    "output_remote['Age'] = (pd.to_datetime(output_remote['Date'], format='%Y%m%d') - pd.to_datetime(output_remote['DoB']))/np.timedelta64(1,'Y')"
   ]
  },
  {
   "cell_type": "code",
   "execution_count": null,
   "id": "a3264483",
   "metadata": {},
   "outputs": [],
   "source": [
    "output_phenotype"
   ]
  },
  {
   "cell_type": "code",
   "execution_count": null,
   "id": "e27f2aa7",
   "metadata": {},
   "outputs": [],
   "source": [
    "output_biogen['Date']"
   ]
  },
  {
   "cell_type": "code",
   "execution_count": null,
   "id": "8d10ca92",
   "metadata": {},
   "outputs": [],
   "source": [
    "output_biogen['Age'] = (pd.to_datetime(output_biogen['Date'], format='%Y%m%d') - pd.to_datetime(output_biogen['DoB']))/np.timedelta64(1,'Y')"
   ]
  },
  {
   "cell_type": "code",
   "execution_count": null,
   "id": "e7d7effd",
   "metadata": {},
   "outputs": [],
   "source": [
    "output_biogen['Age']"
   ]
  },
  {
   "cell_type": "code",
   "execution_count": null,
   "id": "4fd2e27a",
   "metadata": {},
   "outputs": [],
   "source": [
    "output = pd.concat([output_phenotype,output_biogen,output_remote],ignore_index=True)"
   ]
  },
  {
   "cell_type": "code",
   "execution_count": null,
   "id": "d1978618",
   "metadata": {},
   "outputs": [],
   "source": [
    "output['Age']"
   ]
  },
  {
   "cell_type": "code",
   "execution_count": null,
   "id": "6024be0f",
   "metadata": {},
   "outputs": [],
   "source": [
    "output.to_csv('/home/kvattis/Desktop/All_2022_05_04.csv', index = False)"
   ]
  },
  {
   "cell_type": "code",
   "execution_count": null,
   "id": "78dc79b3",
   "metadata": {},
   "outputs": [],
   "source": [
    "output.loc[output['Diagnosis']=='Ataxia','Diagnosis'] = 1"
   ]
  },
  {
   "cell_type": "code",
   "execution_count": null,
   "id": "eef290b6",
   "metadata": {},
   "outputs": [],
   "source": [
    "output[output['Diagnosis']=='Ataxia']['Diagnosis']"
   ]
  },
  {
   "cell_type": "code",
   "execution_count": null,
   "id": "1e461c18",
   "metadata": {},
   "outputs": [],
   "source": [
    "output.columns"
   ]
  },
  {
   "cell_type": "code",
   "execution_count": null,
   "id": "3cc6c4e0",
   "metadata": {},
   "outputs": [],
   "source": [
    "output = output.astype(float).groupby(['Date','subject_id'], as_index = False).median().sort_values(by=['subject_id'])"
   ]
  },
  {
   "cell_type": "code",
   "execution_count": null,
   "id": "175c62e8",
   "metadata": {},
   "outputs": [],
   "source": [
    "speech_analyzer.plot_wav()"
   ]
  },
  {
   "cell_type": "code",
   "execution_count": null,
   "id": "587d5dd6",
   "metadata": {},
   "outputs": [],
   "source": [
    "speech_analyzer.play_audio_nr()"
   ]
  },
  {
   "cell_type": "code",
   "execution_count": null,
   "id": "e8391e3f",
   "metadata": {},
   "outputs": [],
   "source": [
    "speech_analyzer.play_resampled_audio_nr()"
   ]
  },
  {
   "cell_type": "code",
   "execution_count": null,
   "id": "6e2000c4",
   "metadata": {},
   "outputs": [],
   "source": [
    "speech_analyzer.plot_mel()"
   ]
  },
  {
   "cell_type": "code",
   "execution_count": null,
   "id": "f3920214",
   "metadata": {},
   "outputs": [],
   "source": [
    "pd.set_option('display.max_columns', 10)\n",
    "pd.set_option('display.max_rows', 200)\n",
    "np.dtype(np.int16)"
   ]
  },
  {
   "cell_type": "code",
   "execution_count": null,
   "id": "7f1dc852",
   "metadata": {},
   "outputs": [],
   "source": [
    "output.tail(200)[['subject_id','Diagnosis']]"
   ]
  },
  {
   "cell_type": "code",
   "execution_count": null,
   "id": "dcdd59ef",
   "metadata": {},
   "outputs": [],
   "source": [
    "Patient_info_at = Patient_info_\n",
    "data_home_dir = '/home/kvattis/Dropbox (Partners HealthCare)/Data_Raw_Biogen_SCA/'\n",
    "_Patient_info = pd.read_csv(data_home_dir + 'Subjects_BiogenSCA_version2.csv',encoding='latin1')\n",
    "_Patient_info_ = _Patient_info.loc[:,['subject_id','neuropheno_id','diagnosis','bars_total_excl_miss_1','bars_total_excl_miss_2', 'bars_speech_1', 'bars_speech_2','sex']]\n",
    "\n",
    "Patient_info_ = pd.read_excel(data_home_dir + 'Subjects_BiogenSCA_with_PROM_2022_03_29_converted.xlsx',engine='openpyxl')\n",
    "Patient_info_ = Patient_info_.loc[:,['subject_id','neuropheno_id','diagnosis','bars_total_excl_miss_1','bars_total_excl_miss_2', 'bars_speech_1', 'bars_speech_2','sex','dob']]\n",
    "\n",
    "for i in _Patient_info_['subject_id']:\n",
    "    Patient_info_.loc[Patient_info_['subject_id'] == i,'neuropheno_id']  = _Patient_info_.loc[_Patient_info_['subject_id'] == i,'neuropheno_id']\n"
   ]
  },
  {
   "cell_type": "code",
   "execution_count": null,
   "id": "0c2f5178",
   "metadata": {},
   "outputs": [],
   "source": [
    "Patient_info_ph.columns"
   ]
  },
  {
   "cell_type": "code",
   "execution_count": null,
   "id": "fefdd731",
   "metadata": {},
   "outputs": [],
   "source": [
    "for i in output['subject_id'].unique():\n",
    "    output.loc[output['subject_id'] == i,'DoB'] = pd.to_datetime(Patient_info_.loc[Patient_info_['subject_id'] == i,'dob'].item())\n",
    "    output.loc[output['subject_id'] == i,'DoB'] = pd.to_datetime(Patient_info_.loc[Patient_info_['subject_id'] == i,'dob'].item())\n",
    "\n"
   ]
  },
  {
   "cell_type": "code",
   "execution_count": null,
   "id": "48075ceb",
   "metadata": {},
   "outputs": [],
   "source": [
    "output[['subject_id','Bars', 'Bars_Speech', 'Samples_no', 'Diagnosis','Prob_AT_tf_grad', 'Bars_Speech_pred_t','Bars_Total_pred_t']].head(200)"
   ]
  },
  {
   "cell_type": "code",
   "execution_count": null,
   "id": "e69f72e3",
   "metadata": {},
   "outputs": [],
   "source": [
    "output = output[['Date', 'subject_id', 'Neuropheno_ID', 'Bars', 'Bars_Speech', 'Sex',\n",
    "       'Diagnosis', 'Samples_no', 'Prob_AT_tf_grad',\n",
    "       'Bars_Speech_pred_t', 'Bars_Total_pred_t']]"
   ]
  },
  {
   "cell_type": "code",
   "execution_count": null,
   "id": "821e4328",
   "metadata": {},
   "outputs": [],
   "source": []
  },
  {
   "cell_type": "markdown",
   "id": "a9b0d109",
   "metadata": {},
   "source": [
    "output.to_csv('/home/kvattis/Desktop/All_dara_outputs_2022_05_03.csv', index = False)"
   ]
  },
  {
   "cell_type": "code",
   "execution_count": null,
   "id": "e48b8822",
   "metadata": {},
   "outputs": [],
   "source": [
    "output_sca1 = output[output['Diagnosis'] != 0]\n",
    "#output_sca2 = output[output['Diagnosis'] == 2]\n",
    "#output_sca3 = output[output['Diagnosis'] == 3]\n",
    "output_c = output[output['Diagnosis'] == 0]"
   ]
  },
  {
   "cell_type": "code",
   "execution_count": null,
   "id": "e041c48a",
   "metadata": {},
   "outputs": [],
   "source": [
    "import matplotlib.pyplot as plt"
   ]
  },
  {
   "cell_type": "code",
   "execution_count": null,
   "id": "a57f894f",
   "metadata": {},
   "outputs": [],
   "source": [
    "fig = plt.figure(figsize=(10,10))\n",
    "ax = fig.add_subplot(1, 1, 1)\n",
    "ax.scatter(output_c['Bars_Speech'], output_c['Prob_AT_tf_grad'], c = 'b' , marker = 'x')\n",
    "ax.scatter(output_sca1['Bars_Speech'], output_sca1['Prob_AT_tf_grad'], c = 'k' , marker = 'x')\n",
    "#ax.scatter(output_sca2['Bars_Speech'], output_sca2['Prob_AT_tf_grad'], c = 'g' , marker = 'x')\n",
    "#ax.scatter(output_sca3['Bars_Speech'], output_sca3['Prob_AT_tf_grad'], c = 'r' , marker = 'x')\n",
    "plt.xlim([-0.2, 4])\n",
    "plt.ylim([-0.05, 1.05])"
   ]
  },
  {
   "cell_type": "code",
   "execution_count": null,
   "id": "a5a57b2b",
   "metadata": {},
   "outputs": [],
   "source": [
    "fig = plt.figure(figsize=(10,10))\n",
    "ax = fig.add_subplot(1, 1, 1)\n",
    "plt.plot([0,4],[0,4])\n",
    "\n",
    "ax.scatter(output_sca1['Bars_Speech'], output_sca1['Bars_Speech_pred_t'], c = 'k' , marker = 'x')\n",
    "#ax.scatter(output_sca2['Bars_Speech'], output_sca2['Bars_Speech_pred_t'], c = 'g' , marker = 'x')\n",
    "#ax.scatter(output_sca3['Bars_Speech'], output_sca3['Bars_Speech_pred_t'], c = 'r' , marker = 'x')\n",
    "ax.scatter(output_c['Bars_Speech'], output_c['Bars_Speech_pred_t'], c = 'b' , marker = 'x')\n",
    "\n",
    "plt.xlim([-0.2, 4])\n",
    "plt.ylim([-0.05, 4])"
   ]
  },
  {
   "cell_type": "code",
   "execution_count": null,
   "id": "29c50d7d",
   "metadata": {},
   "outputs": [],
   "source": [
    "fig = plt.figure(figsize=(10,10))\n",
    "ax = fig.add_subplot(1, 1, 1)\n",
    "plt.plot([0,30],[0,30])\n",
    "ax.scatter(output_c['Bars'], output_c['Bars_Total_pred_t'], c = 'b' , marker = 'x')\n",
    "ax.scatter(output_sca1['Bars'], output_sca1['Bars_Total_pred_t'], c = 'k' , marker = 'x')\n",
    "#ax.scatter(output_sca2['Bars'], output_sca2['Bars_Total_pred_t'], c = 'g' , marker = 'x')\n",
    "#ax.scatter(output_sca3['Bars'], output_sca3['Bars_Total_pred_t'], c = 'r' , marker = 'x')\n",
    "plt.xlim([-0.2, 30])\n",
    "plt.ylim([-0.05, 30])"
   ]
  },
  {
   "cell_type": "code",
   "execution_count": null,
   "id": "5279ceac",
   "metadata": {},
   "outputs": [],
   "source": []
  },
  {
   "cell_type": "code",
   "execution_count": null,
   "id": "45c7e45a",
   "metadata": {},
   "outputs": [],
   "source": [
    "Patient_info = pd.read_excel(data_home_dir + 'Subjects_BiogenSCA_with_PROM_2022_03_29_converted.xlsx',engine='openpyxl')"
   ]
  },
  {
   "cell_type": "code",
   "execution_count": null,
   "id": "0e652cb5",
   "metadata": {},
   "outputs": [],
   "source": [
    "Patient_info.columns"
   ]
  },
  {
   "cell_type": "code",
   "execution_count": null,
   "id": "802d54c3",
   "metadata": {},
   "outputs": [],
   "source": []
  }
 ],
 "metadata": {
  "kernelspec": {
   "display_name": "Python 3",
   "language": "python",
   "name": "python3"
  },
  "language_info": {
   "codemirror_mode": {
    "name": "ipython",
    "version": 3
   },
   "file_extension": ".py",
   "mimetype": "text/x-python",
   "name": "python",
   "nbconvert_exporter": "python",
   "pygments_lexer": "ipython3",
   "version": "3.7.10"
  }
 },
 "nbformat": 4,
 "nbformat_minor": 5
}
