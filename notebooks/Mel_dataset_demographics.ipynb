{
 "cells": [
  {
   "cell_type": "code",
   "execution_count": null,
   "id": "27a8feac",
   "metadata": {},
   "outputs": [],
   "source": [
    "#Basics\n",
    "import matplotlib.pyplot as plt\n",
    "import matplotlib\n",
    "import numpy as np\n",
    "import sys\n",
    "import os\n",
    "import csv\n",
    "import time\n",
    "import random\n",
    "import pandas as pd"
   ]
  },
  {
   "cell_type": "code",
   "execution_count": null,
   "id": "860441a4",
   "metadata": {},
   "outputs": [],
   "source": [
    "val_file = pd.read_csv('/home/kvattis/Documents/data/train_dataset_control_AT_Mel_Spec_2022_noise_red2_severity_v9.csv', names=[\"P_ID\", \"Address\", \"Label\",\"Date\"])\n",
    "val_file['Study'] = val_file['Address'].apply(lambda x: 'Audio_all' if x[0] == 'A' else ('Biogen_SCA' if x[0] == 'B' else 'Remote_AT') )"
   ]
  },
  {
   "cell_type": "code",
   "execution_count": null,
   "id": "a5414e6e",
   "metadata": {},
   "outputs": [],
   "source": [
    "#Read the Patient info csv and extract the diagnosis\n",
    "Patient_info = pd.read_csv('/home/kvattis/Documents/data/Audio_All/2021_01_27_All_Tasks-data.csv',encoding='latin1')\n",
    "Patient_info['gen_diagnosis'] = Patient_info['gen_diagnosis'].replace(['AT'], 'Ataxia')\n",
    "Patient_info['P_ID'] = Patient_info['ID'].apply(lambda x: x[0:5] )\n",
    "Patient_info.set_index('P_ID', inplace = True)"
   ]
  },
  {
   "cell_type": "code",
   "execution_count": null,
   "id": "01325f33",
   "metadata": {},
   "outputs": [],
   "source": [
    "Patient_info.columns"
   ]
  },
  {
   "cell_type": "code",
   "execution_count": null,
   "id": "cc5be5f5",
   "metadata": {},
   "outputs": [],
   "source": [
    "Patient_info"
   ]
  },
  {
   "cell_type": "code",
   "execution_count": null,
   "id": "2f9d49e7",
   "metadata": {},
   "outputs": [],
   "source": [
    "val_file"
   ]
  },
  {
   "cell_type": "code",
   "execution_count": null,
   "id": "593bc5a0",
   "metadata": {},
   "outputs": [],
   "source": [
    "val_file['P_ID'].unique()"
   ]
  },
  {
   "cell_type": "code",
   "execution_count": null,
   "id": "d2e48bd8",
   "metadata": {},
   "outputs": [],
   "source": [
    "with open('/home/kvattis/Documents/speech_analysis/Model_training_map/train_severity_v9.npy', 'wb') as f:\n",
    "    np.save(f,val_file['P_ID'].unique())"
   ]
  },
  {
   "cell_type": "code",
   "execution_count": null,
   "id": "f63c3eea",
   "metadata": {},
   "outputs": [],
   "source": [
    "val_file[val_file['Study'] == 'Remote_AT']"
   ]
  },
  {
   "cell_type": "markdown",
   "id": "343232b9",
   "metadata": {},
   "source": [
    "val_file.set_index('P_ID', inplace = True)"
   ]
  },
  {
   "cell_type": "markdown",
   "id": "ccdcb190",
   "metadata": {},
   "source": [
    "val_file.loc[30006]"
   ]
  },
  {
   "cell_type": "markdown",
   "id": "21bd3d1f",
   "metadata": {},
   "source": [
    "pd.options.display.max_colwidth = 100\n"
   ]
  },
  {
   "cell_type": "markdown",
   "id": "96ac169b",
   "metadata": {},
   "source": [
    "val_file['P_ID'].unique()"
   ]
  },
  {
   "cell_type": "code",
   "execution_count": null,
   "id": "31cae94e",
   "metadata": {},
   "outputs": [],
   "source": [
    "val_file =val_file.to_numpy()"
   ]
  },
  {
   "cell_type": "code",
   "execution_count": null,
   "id": "a377d7f5",
   "metadata": {},
   "outputs": [],
   "source": [
    "Patient_info_biogen = pd.read_csv('/home/kvattis/Documents/data/Biogen_SCA_Speech_Data/Subjects_BiogenSCA_version2.csv',encoding='latin1')\n",
    "Patient_info_biogen.set_index('subject_id', inplace = True)\n"
   ]
  },
  {
   "cell_type": "code",
   "execution_count": null,
   "id": "7a7923ee",
   "metadata": {},
   "outputs": [],
   "source": [
    "Patient_info_biogen"
   ]
  },
  {
   "cell_type": "code",
   "execution_count": null,
   "id": "7d4372b5",
   "metadata": {},
   "outputs": [],
   "source": [
    "Patient_info_biogen['bars_total_excl_miss_1'].loc[30006]"
   ]
  },
  {
   "cell_type": "code",
   "execution_count": null,
   "id": "31ff96e7",
   "metadata": {},
   "outputs": [],
   "source": [
    "Patient_info_biogen['age'].loc[30011] "
   ]
  },
  {
   "cell_type": "markdown",
   "id": "780451c9",
   "metadata": {},
   "source": [
    "Patient_info_remote = pd.read_csv('/home/kvattis/Documents/data/Remote_AT_Speech_Data/Subjects_Remote_Behavior.csv',encoding='latin1')\n",
    "Patient_info_remote.set_index('subject_id', inplace = True)"
   ]
  },
  {
   "cell_type": "code",
   "execution_count": null,
   "id": "6e8419f5",
   "metadata": {},
   "outputs": [],
   "source": [
    "Patient_info_remote = pd.read_csv('/home/kvattis/Documents/data/Remote_AT_Speech_Data/A-T-Table.csv',encoding='latin1')\n",
    "Patient_info_remote.set_index('subject_id', inplace = True)"
   ]
  },
  {
   "cell_type": "code",
   "execution_count": null,
   "id": "5ba5db15",
   "metadata": {},
   "outputs": [],
   "source": [
    "Patient_info_remote.columns"
   ]
  },
  {
   "cell_type": "markdown",
   "id": "8c600fdd",
   "metadata": {},
   "source": [
    "Patient_info_remote[['neuropheno_id','Neuropheno_session_for_BARS', 'Age']]"
   ]
  },
  {
   "cell_type": "code",
   "execution_count": null,
   "id": "db98afda",
   "metadata": {},
   "outputs": [],
   "source": [
    "Patient_info_remote[['Neuropheno Study Link','Neuropheno_session_for_BARS', 'Age_2021']]"
   ]
  },
  {
   "cell_type": "code",
   "execution_count": null,
   "id": "89b334f1",
   "metadata": {},
   "outputs": [],
   "source": [
    "info = []\n",
    "bars_list = []\n",
    "i = 0\n",
    "for xx in val_file:\n",
    "    if xx[4] == 'Audio_all':\n",
    "        old_id = xx[1][-26:-10]\n",
    "        bars_info = Patient_info[['bars_total','ID', 'bars_arm_L', 'bars_arm_R', 'bars_leg_L', 'bars_leg_R', 'bars_oculomotor', 'bars_gait']].loc[str(xx[0])]\n",
    "        if bars_info.shape == (8,):\n",
    "            bars = bars_info[0]\n",
    "            bars_arm = bars_info[2] +  bars_info[3]\n",
    "            bars_leg = bars_info[4] +  bars_info[5] \n",
    "            bars_occ = bars_info[6]\n",
    "            bars_gait = bars_info[7]\n",
    "            bars_speech = bars - (bars_arm + bars_leg + bars_occ + bars_gait)\n",
    "        else:\n",
    "            bars = bars_info[bars_info['ID'] == old_id]['bars_total'][0]\n",
    "            bars_arm = bars_info[bars_info['ID'] == old_id]['bars_arm_L'][0] + bars_info[bars_info['ID'] == old_id]['bars_arm_R'][0] \n",
    "            bars_leg = bars_info[bars_info['ID'] == old_id]['bars_leg_L'][0] + bars_info[bars_info['ID'] == old_id]['bars_leg_R'][0] \n",
    "            bars_occ = bars_info[bars_info['ID'] == old_id]['bars_oculomotor'][0]\n",
    "            bars_gait = bars_info[bars_info['ID'] == old_id]['bars_gait'][0]\n",
    "            bars_speech = bars - (bars_arm + bars_leg + bars_occ + bars_gait)\n",
    "            \n",
    "    \n",
    "        sex_ = Patient_info['sex'].loc[str(xx[0])]\n",
    "        if len(sex_) == 1:\n",
    "            sex = sex_[0]\n",
    "        else:\n",
    "            sex = sex_.unique()[0] \n",
    "            \n",
    "        age_info = Patient_info[['age','ID']].loc[str(xx[0])]\n",
    "        if age_info.shape == (2,):\n",
    "            age = age_info[0]\n",
    "        else:\n",
    "            age = age_info[age_info['ID'] == old_id]['age'][0]\n",
    "        info.append([i,str(xx[0]),sex,bars,age, bars_speech, str(xx[0]) + str(xx[3])])\n",
    "        \n",
    "    elif xx[4] == 'Biogen_SCA':\n",
    "        \n",
    "        if xx[0]<30000:\n",
    "            id_ = Patient_info_biogen[Patient_info_biogen['neuropheno_id']==float(xx[0])].index.to_list()[0]\n",
    "        else:\n",
    "            id_ = xx[0]\n",
    "        \n",
    "        bars_1 = Patient_info_biogen['bars_total_excl_miss_1'].loc[id_]\n",
    "        bars_2 = Patient_info_biogen['bars_total_excl_miss_2'].loc[id_]\n",
    "        bars = (bars_1 + bars_2) / 2.\n",
    "        \n",
    "        bars_speech_1 = Patient_info_biogen['bars_speech_1'].loc[id_]\n",
    "        bars_speech_2 = Patient_info_biogen['bars_speech_2'].loc[id_]\n",
    "        bars_speech = (bars_speech_1 + bars_speech_2) / 2.\n",
    "        \n",
    "        sex_ = Patient_info_biogen['sex'].loc[id_]\n",
    "        sex = 'F' if sex_ == 1 else 'M'\n",
    "        age = Patient_info_biogen['age'].loc[id_]\n",
    "        info.append([i,str(xx[0]),sex,bars,age, bars_speech/10., str(xx[0]) + str(xx[3])])\n",
    "        \n",
    "    else:\n",
    "        \n",
    "        if xx[0]<20000:\n",
    "            id_ = Patient_info_remote[Patient_info_remote['Neuropheno Study Link']==float(xx[0])].index.to_list()[0]\n",
    "        else:\n",
    "            id_ = xx[0]\n",
    "                \n",
    "        neuro_ph_session = Patient_info_remote['Neuropheno_session_for_BARS'].loc[id_]\n",
    "\n",
    "        if pd.isnull(neuro_ph_session):\n",
    "            bars = np.nan\n",
    "            bars_speech = np.nan\n",
    "        else:\n",
    "            bars_info = Patient_info[Patient_info['ID'] == neuro_ph_session]\n",
    "            bars = bars_info['bars_total'][0]\n",
    "            bars_speech = bars_info['bars_total'][0] - (bars_info['bars_arm_L'][0] + bars_info['bars_arm_R'][0] + bars_info['bars_leg_L'][0] + bars_info['bars_leg_R'][0] + bars_info['bars_oculomotor'][0] + bars_info['bars_gait'][0])\n",
    "        sex = Patient_info_remote['Sex'].loc[id_]\n",
    "        age = Patient_info_remote['Age'].loc[id_]\n",
    "        info.append([i,str(xx[0]),sex,bars,age, bars_speech, str(xx[0]) + str(xx[3])])\n",
    "    \n",
    "    bars_list.append(bars)\n",
    "    i+=1\n",
    "\n",
    "print(len(info))"
   ]
  },
  {
   "cell_type": "code",
   "execution_count": null,
   "id": "d3ba058f",
   "metadata": {},
   "outputs": [],
   "source": [
    "info"
   ]
  },
  {
   "cell_type": "code",
   "execution_count": null,
   "id": "0466dd49",
   "metadata": {},
   "outputs": [],
   "source": [
    "bars_list"
   ]
  },
  {
   "cell_type": "code",
   "execution_count": null,
   "id": "940d69ba",
   "metadata": {},
   "outputs": [],
   "source": [
    "plt.hist(bars_list, density=True, bins=[x+1.5 for x in np.arange(-1.5,30,3)])  # density=False would make counts\n",
    "plt.ylabel('Probability')\n",
    "plt.xlabel('Data');"
   ]
  },
  {
   "cell_type": "code",
   "execution_count": null,
   "id": "cb26c81c",
   "metadata": {},
   "outputs": [],
   "source": [
    "hist_val = plt.hist(bars_list, density=False, bins=[x+1.5 for x in np.arange(-1.5,30,5) ])  # density=False would make counts"
   ]
  },
  {
   "cell_type": "code",
   "execution_count": null,
   "id": "c5eb34e9",
   "metadata": {},
   "outputs": [],
   "source": [
    "hist_val[0]"
   ]
  },
  {
   "cell_type": "markdown",
   "id": "06191be1",
   "metadata": {},
   "source": [
    "with open('/home/kvattis/Documents/data/val_demo_Mel_cnn_nr2_latest_v4.csv',\"w+\") as my_csv:\n",
    "    csvWriter = csv.writer(my_csv,delimiter=',')\n",
    "    csvWriter.writerows(info)"
   ]
  },
  {
   "cell_type": "code",
   "execution_count": null,
   "id": "02438e74",
   "metadata": {},
   "outputs": [],
   "source": []
  }
 ],
 "metadata": {
  "kernelspec": {
   "display_name": "Python 3",
   "language": "python",
   "name": "python3"
  },
  "language_info": {
   "codemirror_mode": {
    "name": "ipython",
    "version": 3
   },
   "file_extension": ".py",
   "mimetype": "text/x-python",
   "name": "python",
   "nbconvert_exporter": "python",
   "pygments_lexer": "ipython3",
   "version": "3.7.10"
  }
 },
 "nbformat": 4,
 "nbformat_minor": 5
}
