{
 "cells": [
  {
   "cell_type": "code",
   "execution_count": null,
   "id": "ce267810",
   "metadata": {},
   "outputs": [],
   "source": [
    "import sys\n",
    "sys.path.append('../../')\n",
    "\n",
    "from script.Model_run import Speech_analysis\n",
    "import numpy as np"
   ]
  },
  {
   "cell_type": "code",
   "execution_count": null,
   "id": "842c4a5b",
   "metadata": {},
   "outputs": [],
   "source": [
    "Prob_list_1 = []\n",
    "BARS_total_list_1 = []\n",
    "BARS_speech_list_1 = []\n",
    "\n",
    "Prob_list_2 = []\n",
    "BARS_total_list_2 = []\n",
    "BARS_speech_list_2 = []"
   ]
  },
  {
   "cell_type": "code",
   "execution_count": null,
   "id": "f6698677",
   "metadata": {},
   "outputs": [],
   "source": [
    "test_1 = Speech_analysis()"
   ]
  },
  {
   "cell_type": "code",
   "execution_count": null,
   "id": "096487d1",
   "metadata": {},
   "outputs": [],
   "source": [
    "test_2 = Speech_analysis()"
   ]
  },
  {
   "cell_type": "code",
   "execution_count": null,
   "id": "b2691726",
   "metadata": {},
   "outputs": [],
   "source": [
    "#Import Audio\n",
    "\n",
    "#file1 ='/home/kvattis/Desktop/72_2022-04-14_14h-03m-58s_gogogo_obs_1_R001-Mic_Yeti_dev_1-Mic_Yeti_sens_1.hdf5'\n",
    "#file1 = '/home/kvattis/Desktop/72_2022-05-17_11h-58m-51s_lalala_obs_1_R001-Mic_Yeti_dev_1-Mic_Yeti_sens_1.hdf5'\n",
    "file1 = '/home/kvattis/Desktop/Neurobooth_data/100121_2022-06-16_14h-23m-07s_gogogo_obs_1_R001-Mic_Yeti_dev_1-Mic_Yeti_sens_1.hdf5'\n",
    "file2 = '/home/kvattis/Desktop/Neurobooth_data/100109_2022-05-19_12h-39m-31s_lalala_obs_1_R001-Mic_Yeti_dev_1-Mic_Yeti_sens_1.hdf5'\n",
    "#file2 = '/home/kvattis/Desktop/100089_2022-05-17_12h-27m-03s_lalala_obs_1_R001-Mic_Yeti_dev_1-Mic_Yeti_sens_1.hdf5'\n",
    "#file2 = '/home/kvattis/Desktop/100112_2022-05-25_13h-03m-08s_gogogo_obs_1_R001-Mic_Yeti_dev_1-Mic_Yeti_sens_1.hdf5'\n"
   ]
  },
  {
   "cell_type": "code",
   "execution_count": null,
   "id": "3517881a",
   "metadata": {},
   "outputs": [],
   "source": [
    "test_1.load(file1)\n",
    "test_2.load(file2)"
   ]
  },
  {
   "cell_type": "code",
   "execution_count": null,
   "id": "34fe0519",
   "metadata": {},
   "outputs": [],
   "source": [
    "print(np.std(test_1.audio_data))\n",
    "#print(np.std(test_2.audio_data))"
   ]
  },
  {
   "cell_type": "code",
   "execution_count": null,
   "id": "46775b74",
   "metadata": {},
   "outputs": [],
   "source": [
    "test_1.play_original_audio()\n",
    "#test_2.play_original_audio()"
   ]
  },
  {
   "cell_type": "code",
   "execution_count": null,
   "id": "4684adbb",
   "metadata": {},
   "outputs": [],
   "source": [
    "test_1.play_resampled_audio()\n",
    "#test_2.play_resampled_audio()"
   ]
  },
  {
   "cell_type": "code",
   "execution_count": null,
   "id": "d0dd38c8",
   "metadata": {},
   "outputs": [],
   "source": [
    "test_1.play_audio_nr()\n",
    "test_2.play_audio_nr()"
   ]
  },
  {
   "cell_type": "code",
   "execution_count": null,
   "id": "65b67036",
   "metadata": {},
   "outputs": [],
   "source": [
    "test_1.save_audio('100161_gogogo', nr = False)"
   ]
  },
  {
   "cell_type": "code",
   "execution_count": null,
   "id": "f58f2564",
   "metadata": {},
   "outputs": [],
   "source": [
    "test_1.plot_wav()\n",
    "test_2.plot_wav()"
   ]
  },
  {
   "cell_type": "code",
   "execution_count": null,
   "id": "54054f7c",
   "metadata": {},
   "outputs": [],
   "source": [
    "test_1.plot_mel()\n",
    "test_2.plot_mel()"
   ]
  },
  {
   "cell_type": "code",
   "execution_count": null,
   "id": "137b90df",
   "metadata": {},
   "outputs": [],
   "source": [
    "test_1.plot_mel_nr()\n",
    "test_2.plot_mel_nr()"
   ]
  },
  {
   "cell_type": "code",
   "execution_count": null,
   "id": "0a0ca93e",
   "metadata": {},
   "outputs": [],
   "source": [
    "test_1.plot_mel_resampled()\n",
    "test_2.plot_mel_resampled()"
   ]
  },
  {
   "cell_type": "code",
   "execution_count": null,
   "id": "1ca4f38c",
   "metadata": {},
   "outputs": [],
   "source": [
    "AT_score1 = test_1.classify()\n",
    "AT_score2 = test_2.classify()"
   ]
  },
  {
   "cell_type": "code",
   "execution_count": null,
   "id": "3d32315a",
   "metadata": {},
   "outputs": [],
   "source": [
    "BARS_total1 = test_1.BARS_total()\n",
    "BARS_total2 = test_2.BARS_total()"
   ]
  },
  {
   "cell_type": "code",
   "execution_count": null,
   "id": "beeba1d6",
   "metadata": {},
   "outputs": [],
   "source": [
    "BARS_speech1 = test_1.BARS_speech()\n",
    "BARS_speech2 = test_2.BARS_speech()"
   ]
  },
  {
   "cell_type": "code",
   "execution_count": null,
   "id": "672bcd6b",
   "metadata": {},
   "outputs": [],
   "source": []
  },
  {
   "cell_type": "code",
   "execution_count": null,
   "id": "bb8630bd",
   "metadata": {},
   "outputs": [],
   "source": []
  },
  {
   "cell_type": "code",
   "execution_count": null,
   "id": "064b3176",
   "metadata": {},
   "outputs": [],
   "source": []
  },
  {
   "cell_type": "code",
   "execution_count": null,
   "id": "d7eba484",
   "metadata": {},
   "outputs": [],
   "source": [
    "Prob_list_1.append(AT_score1)\n",
    "BARS_total_list_1.append(BARS_total1)\n",
    "BARS_speech_list_1.append(BARS_speech1)\n",
    "\n",
    "Prob_list_2.append(AT_score2)\n",
    "BARS_total_list_2.append(BARS_total2)\n",
    "BARS_speech_list_2.append(BARS_speech2)\n"
   ]
  },
  {
   "cell_type": "code",
   "execution_count": null,
   "id": "751758b6",
   "metadata": {},
   "outputs": [],
   "source": [
    "print(Prob_list_1)\n",
    "print(Prob_list_2)"
   ]
  },
  {
   "cell_type": "code",
   "execution_count": null,
   "id": "2530e91c",
   "metadata": {},
   "outputs": [],
   "source": [
    "print(BARS_total_list_1)\n",
    "print(BARS_total_list_2)"
   ]
  },
  {
   "cell_type": "code",
   "execution_count": null,
   "id": "051d420e",
   "metadata": {},
   "outputs": [],
   "source": [
    "print(BARS_speech_list_1)\n",
    "print(BARS_speech_list_2)"
   ]
  },
  {
   "cell_type": "code",
   "execution_count": null,
   "id": "2bec31b5",
   "metadata": {},
   "outputs": [],
   "source": []
  },
  {
   "cell_type": "code",
   "execution_count": null,
   "id": "ff29c440",
   "metadata": {},
   "outputs": [],
   "source": [
    "print(np.mean(Prob_list_1))\n",
    "print(np.mean(Prob_list_2))"
   ]
  },
  {
   "cell_type": "code",
   "execution_count": null,
   "id": "18df577f",
   "metadata": {},
   "outputs": [],
   "source": [
    "print(np.mean(BARS_total_list_1))\n",
    "print(np.mean(BARS_total_list_2))"
   ]
  },
  {
   "cell_type": "code",
   "execution_count": null,
   "id": "1f005019",
   "metadata": {},
   "outputs": [],
   "source": [
    "print(np.mean(BARS_speech_list_1))\n",
    "print(np.mean(BARS_speech_list_2))"
   ]
  },
  {
   "cell_type": "code",
   "execution_count": null,
   "id": "e04eda6f",
   "metadata": {},
   "outputs": [],
   "source": []
  },
  {
   "cell_type": "code",
   "execution_count": null,
   "id": "8ab11fe4",
   "metadata": {},
   "outputs": [],
   "source": []
  }
 ],
 "metadata": {
  "kernelspec": {
   "display_name": "Python 3",
   "language": "python",
   "name": "python3"
  },
  "language_info": {
   "codemirror_mode": {
    "name": "ipython",
    "version": 3
   },
   "file_extension": ".py",
   "mimetype": "text/x-python",
   "name": "python",
   "nbconvert_exporter": "python",
   "pygments_lexer": "ipython3",
   "version": "3.7.10"
  }
 },
 "nbformat": 4,
 "nbformat_minor": 5
}
