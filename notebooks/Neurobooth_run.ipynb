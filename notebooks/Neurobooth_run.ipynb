{
 "cells": [
  {
   "cell_type": "code",
   "execution_count": null,
   "id": "32e760d6",
   "metadata": {},
   "outputs": [],
   "source": [
    "import numpy as np\n",
    "import sys\n",
    "import os\n",
    "import glob\n",
    "import pandas as pd\n",
    "import matplotlib.pyplot as plt\n",
    "sys.path.append('../../')\n",
    "\n",
    "from script.Model_run import Speech_analysis"
   ]
  },
  {
   "cell_type": "code",
   "execution_count": null,
   "id": "d3236da6",
   "metadata": {},
   "outputs": [],
   "source": [
    "#Load the models\n",
    "speech_analyzer = Speech_analysis(print_on = False)"
   ]
  },
  {
   "cell_type": "code",
   "execution_count": null,
   "id": "ad886209",
   "metadata": {},
   "outputs": [],
   "source": [
    "neurobooth_bars = pd.read_csv('/home/kvattis/Desktop/neurobooth_bars_data.csv',encoding='latin1')"
   ]
  },
  {
   "cell_type": "code",
   "execution_count": null,
   "id": "5c3f3e97",
   "metadata": {},
   "outputs": [],
   "source": [
    "neurobooth_subjects = pd.read_csv('/home/kvattis/Desktop/neurobooth_bars_data_2.csv',encoding='latin1')"
   ]
  },
  {
   "cell_type": "code",
   "execution_count": null,
   "id": "f6a8ae2b",
   "metadata": {},
   "outputs": [],
   "source": [
    "pd.set_option('display.max_rows', None)"
   ]
  },
  {
   "cell_type": "code",
   "execution_count": null,
   "id": "c95f81e6",
   "metadata": {},
   "outputs": [],
   "source": [
    "neurobooth_bars"
   ]
  },
  {
   "cell_type": "code",
   "execution_count": null,
   "id": "a1f39921",
   "metadata": {},
   "outputs": [],
   "source": [
    "subjects = pd.merge(neurobooth_subjects,neurobooth_bars,on='subject_id', how = 'right')"
   ]
  },
  {
   "cell_type": "code",
   "execution_count": null,
   "id": "8cd54ce0",
   "metadata": {},
   "outputs": [],
   "source": [
    "subjects['bars_total'] = (subjects['bars_speech']  + subjects['bars_oculomotor'] + subjects['bars_heel_shin_right'] + subjects['bars_heel_shin_left'] +  subjects['bars_finger_nose_right'] + subjects['bars_finger_nose_left'] + subjects['bars_gait'])/10. "
   ]
  },
  {
   "cell_type": "code",
   "execution_count": null,
   "id": "7009451d",
   "metadata": {},
   "outputs": [],
   "source": [
    "data_file_list = glob.glob('/home/kvattis/Desktop/Neurobooth_data/*')"
   ]
  },
  {
   "cell_type": "code",
   "execution_count": null,
   "id": "4d6b7cff",
   "metadata": {},
   "outputs": [],
   "source": [
    "output = pd.DataFrame(columns = ['subject_id','Neuropheno_ID','Bars_Speech','Bars_Total','Samples_no','Prob_AT_tf_grad', 'Bars_Speech_pred_t', 'Bars_Total_pred_t', 'Bars_Speech_pred_tf','Bars_Total_pred_tf'])"
   ]
  },
  {
   "cell_type": "code",
   "execution_count": null,
   "id": "1b658dbd",
   "metadata": {},
   "outputs": [],
   "source": [
    "data_file_list"
   ]
  },
  {
   "cell_type": "code",
   "execution_count": null,
   "id": "e9a6e464",
   "metadata": {},
   "outputs": [],
   "source": [
    "for dd in data_file_list:\n",
    "    subject_id = int(dd[38:44])\n",
    "    neuropheno_id = subjects[subjects['subject_id'] == subject_id]['neuropheno_id'].iat[0]\n",
    "    bars_speech = subjects[subjects['subject_id'] == subject_id]['bars_speech'].iat[0]/10.\n",
    "    bars = subjects[subjects['subject_id'] == subject_id]['bars_total'].iat[0]\n",
    "    if not pd.isna(neuropheno_id):\n",
    "        speech_analyzer.load(dd,neuropheno_id)\n",
    "        sample_size = speech_analyzer.sample_size_s \n",
    "    else:\n",
    "        speech_analyzer.load(dd,subject_id)\n",
    "        sample_size = speech_analyzer.sample_size_s \n",
    "        \n",
    "    #print(sample_size)\n",
    "    if sample_size < 7:\n",
    "        continue\n",
    "    output = output.append({'subject_id' : subject_id, 'Neuropheno_ID' : neuropheno_id, 'Bars_Speech':bars_speech,'Bars_Total':bars, 'Samples_no' : speech_analyzer.sample_size_s, 'Prob_AT_tf_grad': speech_analyzer.classify(),\n",
    "                               'Bars_Speech_pred_t': speech_analyzer.BARS_speech(), 'Bars_Total_pred_t': speech_analyzer.BARS_total(), 'Bars_Speech_pred_tf': speech_analyzer.BARS_speech_both_grad(), 'Bars_Total_pred_tf': speech_analyzer.BARS_total_both_grad()}, ignore_index = True)   "
   ]
  },
  {
   "cell_type": "code",
   "execution_count": null,
   "id": "1163ba46",
   "metadata": {},
   "outputs": [],
   "source": [
    "output"
   ]
  },
  {
   "cell_type": "code",
   "execution_count": null,
   "id": "0d030dd1",
   "metadata": {},
   "outputs": [],
   "source": [
    "output__ = output.astype(float).groupby(['subject_id'], as_index = False).median().sort_values(by=['subject_id'])"
   ]
  },
  {
   "cell_type": "code",
   "execution_count": null,
   "id": "89a624d4",
   "metadata": {},
   "outputs": [],
   "source": [
    "output_ = output__[~output__['Bars_Speech'].isna()]"
   ]
  },
  {
   "cell_type": "code",
   "execution_count": null,
   "id": "287410cd",
   "metadata": {},
   "outputs": [],
   "source": [
    "output_"
   ]
  },
  {
   "cell_type": "code",
   "execution_count": null,
   "id": "501e61c5",
   "metadata": {},
   "outputs": [],
   "source": [
    "fig = plt.figure(figsize=(10,10))\n",
    "ax = fig.add_subplot(1, 1, 1)\n",
    "ax.scatter(output_['Bars_Speech'], output_['Prob_AT_tf_grad'], c = 'red' , marker = 'o')\n",
    "\n",
    "plt.xlim([-0.2, 4])\n",
    "plt.ylim([-0.05, 1])"
   ]
  },
  {
   "cell_type": "code",
   "execution_count": null,
   "id": "5b3470bb",
   "metadata": {},
   "outputs": [],
   "source": [
    "fig = plt.figure(figsize=(10,10))\n",
    "ax = fig.add_subplot(1, 1, 1)\n",
    "ax.plot([0, 4], [0, 4],color = 'k',linewidth = 4,linestyle ='-.')\n",
    "\n",
    "ax.scatter(output_['Bars_Speech'], output_['Bars_Speech_pred_t'], c = 'red', marker = 'o', s = 60)\n",
    "\n",
    "ax.minorticks_on()\n",
    "ax.tick_params('both', length=10, width=2, which='major',direction=\"in\")\n",
    "ax.tick_params('both', length=5, width=1, which='minor',direction=\"in\")\n",
    "ax.tick_params(axis='x', labelsize=35)\n",
    "ax.tick_params(axis='y', labelsize=35)\n",
    "ax.set_aspect(1)\n",
    "plt.xlim([-0.15, 4])\n",
    "plt.ylim([-0.3, 4])\n",
    "plt.xlabel(r'$BARS^{clin}_{speech}$', fontsize=40)\n",
    "plt.ylabel(r'$BARS^{pred}_{speech}$', fontsize=40)\n",
    "plt.show()"
   ]
  },
  {
   "cell_type": "code",
   "execution_count": null,
   "id": "137b22e5",
   "metadata": {},
   "outputs": [],
   "source": [
    "fig = plt.figure(figsize=(10,10))\n",
    "ax = fig.add_subplot(1, 1, 1)\n",
    "ax.plot([0, 30], [0, 30],color = 'k',linewidth = 4,linestyle ='-.')\n",
    "\n",
    "ax.scatter(output_['Bars_Total'], output_['Bars_Total_pred_t'],  c = 'red', marker = 'o', s = 60)\n",
    "\n",
    "ax.minorticks_on()\n",
    "ax.tick_params('both', length=10, width=2, which='major',direction=\"in\")\n",
    "ax.tick_params('both', length=5, width=1, which='minor',direction=\"in\")\n",
    "ax.tick_params(axis='x', labelsize=35)\n",
    "ax.tick_params(axis='y', labelsize=35)\n",
    "ax.set_aspect(1)\n",
    "plt.xlim([-0.2, 30])\n",
    "plt.ylim([-0.05, 30])\n",
    "plt.xlabel(r'$BARS^{clin}_{Total}$', fontsize=40)\n",
    "plt.ylabel(r'$BARS^{pred}_{Total}$', fontsize=40)"
   ]
  },
  {
   "cell_type": "code",
   "execution_count": null,
   "id": "cf4bf44d",
   "metadata": {},
   "outputs": [],
   "source": []
  },
  {
   "cell_type": "code",
   "execution_count": null,
   "id": "4c8de852",
   "metadata": {},
   "outputs": [],
   "source": [
    "from sklearn.metrics import f1_score, roc_auc_score, mean_absolute_error"
   ]
  },
  {
   "cell_type": "code",
   "execution_count": null,
   "id": "f934d91b",
   "metadata": {},
   "outputs": [],
   "source": [
    "mean_absolute_error(output_['Bars_Speech'].to_numpy(), output_['Bars_Speech_pred_t'].to_numpy())"
   ]
  },
  {
   "cell_type": "code",
   "execution_count": null,
   "id": "625ab457",
   "metadata": {},
   "outputs": [],
   "source": [
    "speech_analyzer.play_original_audio()"
   ]
  },
  {
   "cell_type": "code",
   "execution_count": null,
   "id": "0fff4f77",
   "metadata": {},
   "outputs": [],
   "source": [
    "speech_analyzer.play_resampled_audio()"
   ]
  },
  {
   "cell_type": "code",
   "execution_count": null,
   "id": "d9d72398",
   "metadata": {},
   "outputs": [],
   "source": [
    "speech_analyzer.plot_mel()"
   ]
  },
  {
   "cell_type": "code",
   "execution_count": null,
   "id": "6d4fa0ad",
   "metadata": {},
   "outputs": [],
   "source": [
    "speech_analyzer.plot_mel_resampled()"
   ]
  },
  {
   "cell_type": "code",
   "execution_count": null,
   "id": "cdf8c60a",
   "metadata": {},
   "outputs": [],
   "source": []
  },
  {
   "cell_type": "code",
   "execution_count": null,
   "id": "5bf290b4",
   "metadata": {},
   "outputs": [],
   "source": []
  }
 ],
 "metadata": {
  "kernelspec": {
   "display_name": "Python 3",
   "language": "python",
   "name": "python3"
  },
  "language_info": {
   "codemirror_mode": {
    "name": "ipython",
    "version": 3
   },
   "file_extension": ".py",
   "mimetype": "text/x-python",
   "name": "python",
   "nbconvert_exporter": "python",
   "pygments_lexer": "ipython3",
   "version": "3.7.10"
  }
 },
 "nbformat": 4,
 "nbformat_minor": 5
}
