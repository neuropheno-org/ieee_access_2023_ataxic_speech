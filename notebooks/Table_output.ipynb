{
 "cells": [
  {
   "cell_type": "code",
   "execution_count": null,
   "id": "52cbcf7e",
   "metadata": {},
   "outputs": [],
   "source": [
    "import pandas as pd\n",
    "import matplotlib.pyplot as plt\n"
   ]
  },
  {
   "cell_type": "code",
   "execution_count": null,
   "id": "0a95016b",
   "metadata": {},
   "outputs": [],
   "source": [
    "pd.set_option('display.max_rows', 100)"
   ]
  },
  {
   "cell_type": "code",
   "execution_count": null,
   "id": "616bf2da",
   "metadata": {},
   "outputs": [],
   "source": [
    "tf_class = pd.read_pickle('/home/kvattis/Desktop/tf_classification.pd')\n",
    "t_class = pd.read_pickle('/home/kvattis/Desktop/t_classification.pd')\n",
    "mel_class = pd.read_pickle('/home/kvattis/Desktop/mel_classification.pd')\n",
    "\n",
    "tf_speech = pd.read_pickle('/home/kvattis/Desktop/tf_bars_speech.pd')\n",
    "t_speech = pd.read_pickle('/home/kvattis/Desktop/t_bars_speech.pd')\n",
    "mel_speech = pd.read_pickle('/home/kvattis/Desktop/mel_bars_speech.pd')\n",
    "\n",
    "tf_total = pd.read_pickle('/home/kvattis/Desktop/tf_bars_total.pd')\n",
    "t_total = pd.read_pickle('/home/kvattis/Desktop/t_bars_total.pd')\n",
    "mel_total = pd.read_pickle('/home/kvattis/Desktop/mel_bars_total.pd')"
   ]
  },
  {
   "cell_type": "code",
   "execution_count": null,
   "id": "c2fe8c14",
   "metadata": {},
   "outputs": [],
   "source": [
    "tf_class = tf_class.reset_index(drop=True)\n",
    "t_class = t_class.reset_index(drop=True)\n",
    "mel_class = mel_class.reset_index(drop=True)\n",
    "\n",
    "tf_speech = tf_speech.reset_index(drop=True)\n",
    "t_speech = t_speech.reset_index(drop=True)\n",
    "mel_speech = mel_speech.reset_index(drop=True)\n",
    "\n",
    "tf_total = tf_total.reset_index(drop=True)\n",
    "t_total = t_total.reset_index(drop=True)\n",
    "mel_total = mel_total.reset_index(drop=True)\n"
   ]
  },
  {
   "cell_type": "code",
   "execution_count": null,
   "id": "ca90ee92",
   "metadata": {},
   "outputs": [],
   "source": [
    "tf_total"
   ]
  },
  {
   "cell_type": "code",
   "execution_count": null,
   "id": "c45fce09",
   "metadata": {},
   "outputs": [],
   "source": [
    "tf_speech"
   ]
  },
  {
   "cell_type": "code",
   "execution_count": null,
   "id": "4e905ecf",
   "metadata": {},
   "outputs": [],
   "source": [
    "tf_class"
   ]
  },
  {
   "cell_type": "code",
   "execution_count": null,
   "id": "f9976f70",
   "metadata": {},
   "outputs": [],
   "source": [
    "combined = tf_class[['Date','P_ID','Bars','Bars_Speech','Sex','Label','Age']]"
   ]
  },
  {
   "cell_type": "code",
   "execution_count": null,
   "id": "c21f3258",
   "metadata": {},
   "outputs": [],
   "source": [
    "combined"
   ]
  },
  {
   "cell_type": "code",
   "execution_count": null,
   "id": "9c379184",
   "metadata": {},
   "outputs": [],
   "source": [
    "combined['Prob_AT_tf_grad'] = tf_class['Prob_AT']\n",
    "combined['Prob_AT_t_grad'] = t_class['Prob_AT']\n",
    "combined['Prob_AT_mel'] = mel_class['Prob_AT']\n",
    "\n",
    "combined['Bars_Speech_pred_tf_grad'] = tf_speech['BARS_pred']\n",
    "combined['Bars_Speech_pred_t_grad'] = t_speech['BARS_pred']\n",
    "combined['Bars_Speech_pred_mel'] = mel_speech['BARS_pred']\n",
    "\n",
    "combined['Bars_Total_pred_tf_grad'] = tf_total['BARS_pred']\n",
    "combined['Bars_Total_pred_t_grad'] = t_total['BARS_pred']\n",
    "combined['Bars_Total_pred_mel'] = mel_total['BARS_pred']"
   ]
  },
  {
   "cell_type": "code",
   "execution_count": null,
   "id": "3a7e5374",
   "metadata": {},
   "outputs": [],
   "source": [
    "combined"
   ]
  },
  {
   "cell_type": "code",
   "execution_count": null,
   "id": "e9798b7b",
   "metadata": {},
   "outputs": [],
   "source": [
    "combined[combined['P_ID'] == 30006].sort_values(by=['Date'])"
   ]
  },
  {
   "cell_type": "code",
   "execution_count": null,
   "id": "e672472e",
   "metadata": {},
   "outputs": [],
   "source": [
    "combined.to_csv('/home/kvattis/Desktop/BiogenSca_outputs.csv')"
   ]
  },
  {
   "cell_type": "code",
   "execution_count": null,
   "id": "73c85a1b",
   "metadata": {},
   "outputs": [],
   "source": [
    "fig = plt.figure(figsize=(10,10))\n",
    "ax = fig.add_subplot(1, 1, 1)\n",
    "ax.scatter(combined['Bars_Speech'], combined['Prob_AT_tf_grad'], c = 'k' , marker = 'x')\n",
    "#ax.scatter(combined['Bars_Speech'], combined['Prob_AT_t_grad'], c = 'r' , marker = 'x')\n",
    "#ax.scatter(combined['Bars_Speech'], combined['Prob_AT_mel'], c = 'b' , marker = 'x')\n",
    "plt.xlim([-0.2, 4])\n",
    "plt.ylim([-0.05, 1.05])"
   ]
  },
  {
   "cell_type": "code",
   "execution_count": null,
   "id": "76822419",
   "metadata": {},
   "outputs": [],
   "source": [
    "fig = plt.figure(figsize=(10,10))\n",
    "ax = fig.add_subplot(1, 1, 1)\n",
    "plt.plot([0,4],[0,4])\n",
    "#ax.scatter(combined['Bars_Speech'], combined['Bars_Speech_pred_tf_grad'], c = 'k' , marker = 'x')\n",
    "ax.scatter(combined['Bars_Speech'], combined['Bars_Speech_pred_t_grad'], c = 'r' , marker = 'x')\n",
    "#ax.scatter(combined['Bars_Speech'], combined['Bars_Speech_pred_mel'], c = 'b' , marker = 'x')\n",
    "plt.xlim([-0.2, 4])\n",
    "plt.ylim([-0.05, 4])"
   ]
  },
  {
   "cell_type": "code",
   "execution_count": null,
   "id": "4e08b53e",
   "metadata": {},
   "outputs": [],
   "source": [
    "fig = plt.figure(figsize=(10,10))\n",
    "ax = fig.add_subplot(1, 1, 1)\n",
    "plt.plot([0,30],[0,30])\n",
    "#ax.scatter(combined['Bars'], combined['Bars_Total_pred_tf_grad'], c = 'k' , marker = 'x')\n",
    "ax.scatter(combined['Bars'], combined['Bars_Total_pred_t_grad'], c = 'r' , marker = 'x')\n",
    "#ax.scatter(combined['Bars'], combined['Bars_Total_pred_mel'], c = 'b' , marker = 'x')\n",
    "plt.xlim([-0.2, 30])\n",
    "plt.ylim([-0.05, 30])"
   ]
  },
  {
   "cell_type": "code",
   "execution_count": null,
   "id": "aea80184",
   "metadata": {},
   "outputs": [],
   "source": []
  },
  {
   "cell_type": "code",
   "execution_count": null,
   "id": "06e1a6ca",
   "metadata": {},
   "outputs": [],
   "source": []
  }
 ],
 "metadata": {
  "kernelspec": {
   "display_name": "Python 3",
   "language": "python",
   "name": "python3"
  },
  "language_info": {
   "codemirror_mode": {
    "name": "ipython",
    "version": 3
   },
   "file_extension": ".py",
   "mimetype": "text/x-python",
   "name": "python",
   "nbconvert_exporter": "python",
   "pygments_lexer": "ipython3",
   "version": "3.7.10"
  }
 },
 "nbformat": 4,
 "nbformat_minor": 5
}
